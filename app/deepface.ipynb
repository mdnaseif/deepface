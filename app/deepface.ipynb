{
 "cells": [
  {
   "cell_type": "code",
   "execution_count": 24,
   "metadata": {},
   "outputs": [
    {
     "name": "stderr",
     "output_type": "stream",
     "text": [
      "Action: emotion: 100%|██████████| 4/4 [00:04<00:00,  1.04s/it]\n"
     ]
    },
    {
     "name": "stdout",
     "output_type": "stream",
     "text": [
      "your age is :34\n",
      "your gender is :Man\n",
      "your race is :asian\n",
      "your are :surprise\n"
     ]
    }
   ],
   "source": [
    "import cv2\n",
    "from deepface import DeepFace\n",
    "import time\n",
    "duration = 5\n",
    "\n",
    "# Start time\n",
    "start_time = time.time()\n",
    "\n",
    "# Initialize the video capture object\n",
    "video_capture = cv2.VideoCapture(0)  # Set the argument to the appropriate camera index if you have multiple cameras\n",
    "\n",
    "while True:\n",
    "    # Capture frame-by-frame\n",
    "    ret, frame = video_capture.read()\n",
    "\n",
    "    # Display the captured frame\n",
    "    cv2.imshow('Video', frame)\n",
    "    \n",
    "    result = DeepFace.analyze(img_path=frame, actions = ['age', 'gender', 'race', 'emotion'], enforce_detection=False)\n",
    "\n",
    "    # Perform facial expression analysis\n",
    "\n",
    "    # Break the loop when the 'q' key is pressed\n",
    "    if cv2.waitKey(1) & 0xFF == ord('q') or (time.time() - start_time) > duration:\n",
    "        break\n",
    "\n",
    "    \n",
    "\n",
    "    # Access the facial expression result\n",
    "\n",
    "\n",
    "    # Print the emotion scores\n",
    "    \n",
    "\n",
    "# Release the video capture object and close the windows\n",
    "video_capture.release()\n",
    "cv2.destroyAllWindows()\n",
    "dd = result[0]\n",
    "age = list(dd.values())[0]\n",
    "gender = list(dd.values())[3]\n",
    "race= list(dd.values())[5]\n",
    "emotion= list(dd.values())[7]\n",
    "print(f\"your age is :{age}\")\n",
    "print(f\"your gender is :{gender}\")\n",
    "print(f\"your race is :{race}\")\n",
    "print(f\"your are :{emotion}\")\n"
   ]
  }
 ],
 "metadata": {
  "kernelspec": {
   "display_name": "Python 3",
   "language": "python",
   "name": "python3"
  },
  "language_info": {
   "codemirror_mode": {
    "name": "ipython",
    "version": 3
   },
   "file_extension": ".py",
   "mimetype": "text/x-python",
   "name": "python",
   "nbconvert_exporter": "python",
   "pygments_lexer": "ipython3",
   "version": "3.10.10"
  },
  "orig_nbformat": 4
 },
 "nbformat": 4,
 "nbformat_minor": 2
}
